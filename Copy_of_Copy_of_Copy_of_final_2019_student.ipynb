{
  "nbformat": 4,
  "nbformat_minor": 0,
  "metadata": {
    "colab": {
      "name": "Copy of Copy of Copy of final_2019_student.ipynb",
      "version": "0.3.2",
      "provenance": [],
      "collapsed_sections": [],
      "include_colab_link": true
    },
    "language_info": {
      "codemirror_mode": {
        "name": "ipython",
        "version": 3
      },
      "file_extension": ".py",
      "mimetype": "text/x-python",
      "name": "python",
      "nbconvert_exporter": "python",
      "pygments_lexer": "ipython3",
      "version": "3.6.3"
    },
    "kernelspec": {
      "display_name": "Python 3",
      "language": "python",
      "name": "python3"
    }
  },
  "cells": [
    {
      "cell_type": "markdown",
      "metadata": {
        "id": "view-in-github",
        "colab_type": "text"
      },
      "source": [
        "<a href=\"https://colab.research.google.com/github/liuy57/Final-project-code/blob/master/Copy_of_Copy_of_Copy_of_final_2019_student.ipynb\" target=\"_parent\"><img src=\"https://colab.research.google.com/assets/colab-badge.svg\" alt=\"Open In Colab\"/></a>"
      ]
    },
    {
      "cell_type": "markdown",
      "metadata": {
        "colab_type": "text",
        "id": "88E1SinoXESX"
      },
      "source": [
        "# Tech Fundamentals Final\n",
        "# enter your name here\n",
        "\n",
        "\"I pledge under the RPI honor code that I have completed this work on my own.\" \n",
        "\n",
        "At any time a monitor may ask you to scroll up to the top of this document to view this. \n",
        "\n",
        "\n",
        "Yitian Liu"
      ]
    },
    {
      "cell_type": "code",
      "metadata": {
        "colab_type": "code",
        "id": "bazbfl30iE3t",
        "colab": {}
      },
      "source": [
        "#This just gets the data and preps the environment. \n",
        "data=\"https://www.dropbox.com/s/7kbq1hi31a7tnzt/data.zip\""
      ],
      "execution_count": 0,
      "outputs": []
    },
    {
      "cell_type": "code",
      "metadata": {
        "colab_type": "code",
        "id": "K6tm8adzbq58",
        "colab": {}
      },
      "source": [
        "!wget $data"
      ],
      "execution_count": 0,
      "outputs": []
    },
    {
      "cell_type": "code",
      "metadata": {
        "colab_type": "code",
        "id": "NabIBvxWoICP",
        "colab": {}
      },
      "source": [
        "!unzip -o data.zip"
      ],
      "execution_count": 0,
      "outputs": []
    },
    {
      "cell_type": "markdown",
      "metadata": {
        "colab_type": "text",
        "id": "880XuoKaXJke"
      },
      "source": [
        "This is healthcare data generated from a syntetic data generator.  We want to see how good it is. "
      ]
    },
    {
      "cell_type": "code",
      "metadata": {
        "colab_type": "code",
        "id": "jcsebVilY9Ue",
        "outputId": "1a2dd78b-c780-4e74-ade6-95e8eb9d11e6",
        "colab": {
          "base_uri": "https://localhost:8080/",
          "height": 68
        }
      },
      "source": [
        "#Let's list the files\n",
        "!ls ./data/ma\n"
      ],
      "execution_count": 4,
      "outputs": [
        {
          "output_type": "stream",
          "text": [
            "allergies.csv\tencounters.csv\t     medications.csv\tpatients.csv\n",
            "careplans.csv\timaging_studies.csv  observations.csv\tprocedures.csv\n",
            "conditions.csv\timmunizations.csv    organizations.csv\tproviders.csv\n"
          ],
          "name": "stdout"
        }
      ]
    },
    {
      "cell_type": "code",
      "metadata": {
        "colab_type": "code",
        "id": "0vVUHm0Vi72N",
        "colab": {}
      },
      "source": [
        "#Let's look at one of the dataframes\n",
        "import numpy as np\n",
        "import pandas as pd\n",
        "careplans_ma= pd.read_csv('./data/ma/careplans.csv')\n",
        "careplans_ny= pd.read_csv('./data/ny/careplans.csv')\n",
        "careplans_ma\n"
      ],
      "execution_count": 0,
      "outputs": []
    },
    {
      "cell_type": "markdown",
      "metadata": {
        "colab_type": "text",
        "id": "-G1gjRxRXESa"
      },
      "source": [
        "# Exploratory Data Analysis \n",
        "\n",
        "The data directory includes a wide variety of data related to health care.  \n",
        "    \n",
        "(1. 5 points) Find the mean of the `COST` varaiable in the `encounters.csv` data for both NY and MA, assigning the values to `cost_ny` and `cost_ma`.   \n",
        "\n",
        "\n",
        "\n"
      ]
    },
    {
      "cell_type": "code",
      "metadata": {
        "colab_type": "code",
        "id": "z6GWZeGvXESc",
        "outputId": "abf2e013-cfaf-4053-bc50-770d56164d70",
        "colab": {
          "base_uri": "https://localhost:8080/",
          "height": 51
        }
      },
      "source": [
        "# Answer 1\n",
        "import numpy as np\n",
        "import pandas as pd\n",
        "#Load the data\n",
        "encounters_ma= pd.read_csv('./data/ma/encounters.csv')\n",
        "encounters_ny= pd.read_csv('./data/ny/encounters.csv')\n",
        "cost_ma=np.mean(encounters_ma[\"COST\"]) # Fix this to calculate the mean of the cost. (5 points)\n",
        "cost_ny=np.mean(encounters_ny[\"COST\"]) #Fix this to calculate the mean of the cost. (5 points)\n",
        "print( cost_ma, cost_ny)\n",
        "print (\"___\", \"    If you are seeing a face, probably aren't there yet. \")\n",
        "\n",
        "\n"
      ],
      "execution_count": 6,
      "outputs": [
        {
          "output_type": "stream",
          "text": [
            "17.906257207081175 15.188246329742485\n",
            "___     If you are seeing a face, probably aren't there yet. \n"
          ],
          "name": "stdout"
        }
      ]
    },
    {
      "cell_type": "markdown",
      "metadata": {
        "colab_type": "text",
        "id": "1aMi_E27oICs"
      },
      "source": [
        "# Cost Regression Analysis\n",
        "\n",
        "### Dummy Creation and Splint to Train and Test for NY ONLY \n",
        "\n",
        "The goal of the code below is to predict the `COST` from `CODE` and `ENCOUNTERCLASS`.  \n",
        "\n",
        "\n",
        "(2. 5 points) First create dummies from `CODE` and `ENCOUNTERCLASS`.  Don't use any other variables.  split your data into an 70% train and 30% validation using a `random_state` of 111. For validation, set: \n",
        "\n",
        "```\n",
        "splittest1 = X_train.iloc[5,2]\n",
        "\n",
        "splittest2 = X_test.iloc[7,4]\n",
        "```\n",
        "\n",
        "\n"
      ]
    },
    {
      "cell_type": "code",
      "metadata": {
        "colab_type": "code",
        "id": "q6EnzsJyoICu",
        "colab": {
          "base_uri": "https://localhost:8080/",
          "height": 375
        },
        "outputId": "ceb54f55-8cb1-4441-e5cc-606d4efef592"
      },
      "source": [
        "from sklearn.model_selection import train_test_split\n",
        "from sklearn.linear_model import LinearRegression\n",
        "import numpy as np\n",
        "import pandas as pd\n",
        "#Create Dummies. Also set  dummy_na = True\n",
        "X = encounters_ny\n",
        "pd.get_dummies(X[['CODE']],dummy_na = True)\n",
        "pd.get_dummies(X[['ENCOUNTERCLASS']],dummy_na = True)\n",
        "\n",
        "y ='COST'\n",
        "#X_train, X_test, y_train, y_test is the naming you should use\n",
        "#verify split\n",
        "X_train, X_test, y_train, y_test = train_test_split(X, y, \n",
        "                                                    train_size=0.7,\n",
        "                                                    test_size=0.3,\n",
        "                                                    random_state=111)\n",
        "\n",
        "\n",
        "splittest1 = X_train.iloc[5,2]\n",
        "splittest2 = X_test.iloc[7,4]\n",
        " \n",
        "#keep this code used for testing. \n",
        "splittest1 = X_train.shape\n",
        "splittest2 = X_test.iloc[7,4]\n",
        "print(splittest1, splittest2)"
      ],
      "execution_count": 22,
      "outputs": [
        {
          "output_type": "error",
          "ename": "ValueError",
          "evalue": "ignored",
          "traceback": [
            "\u001b[0;31m---------------------------------------------------------------------------\u001b[0m",
            "\u001b[0;31mValueError\u001b[0m                                Traceback (most recent call last)",
            "\u001b[0;32m<ipython-input-22-1dda7cc04224>\u001b[0m in \u001b[0;36m<module>\u001b[0;34m()\u001b[0m\n\u001b[1;32m     14\u001b[0m                                                     \u001b[0mtrain_size\u001b[0m\u001b[0;34m=\u001b[0m\u001b[0;36m0.7\u001b[0m\u001b[0;34m,\u001b[0m\u001b[0;34m\u001b[0m\u001b[0;34m\u001b[0m\u001b[0m\n\u001b[1;32m     15\u001b[0m                                                     \u001b[0mtest_size\u001b[0m\u001b[0;34m=\u001b[0m\u001b[0;36m0.3\u001b[0m\u001b[0;34m,\u001b[0m\u001b[0;34m\u001b[0m\u001b[0;34m\u001b[0m\u001b[0m\n\u001b[0;32m---> 16\u001b[0;31m                                                     random_state=111)\n\u001b[0m\u001b[1;32m     17\u001b[0m \u001b[0;34m\u001b[0m\u001b[0m\n\u001b[1;32m     18\u001b[0m \u001b[0;34m\u001b[0m\u001b[0m\n",
            "\u001b[0;32m/usr/local/lib/python3.6/dist-packages/sklearn/model_selection/_split.py\u001b[0m in \u001b[0;36mtrain_test_split\u001b[0;34m(*arrays, **options)\u001b[0m\n\u001b[1;32m   2182\u001b[0m         \u001b[0mtest_size\u001b[0m \u001b[0;34m=\u001b[0m \u001b[0;36m0.25\u001b[0m\u001b[0;34m\u001b[0m\u001b[0;34m\u001b[0m\u001b[0m\n\u001b[1;32m   2183\u001b[0m \u001b[0;34m\u001b[0m\u001b[0m\n\u001b[0;32m-> 2184\u001b[0;31m     \u001b[0marrays\u001b[0m \u001b[0;34m=\u001b[0m \u001b[0mindexable\u001b[0m\u001b[0;34m(\u001b[0m\u001b[0;34m*\u001b[0m\u001b[0marrays\u001b[0m\u001b[0;34m)\u001b[0m\u001b[0;34m\u001b[0m\u001b[0;34m\u001b[0m\u001b[0m\n\u001b[0m\u001b[1;32m   2185\u001b[0m \u001b[0;34m\u001b[0m\u001b[0m\n\u001b[1;32m   2186\u001b[0m     \u001b[0;32mif\u001b[0m \u001b[0mshuffle\u001b[0m \u001b[0;32mis\u001b[0m \u001b[0;32mFalse\u001b[0m\u001b[0;34m:\u001b[0m\u001b[0;34m\u001b[0m\u001b[0;34m\u001b[0m\u001b[0m\n",
            "\u001b[0;32m/usr/local/lib/python3.6/dist-packages/sklearn/utils/validation.py\u001b[0m in \u001b[0;36mindexable\u001b[0;34m(*iterables)\u001b[0m\n\u001b[1;32m    258\u001b[0m         \u001b[0;32melse\u001b[0m\u001b[0;34m:\u001b[0m\u001b[0;34m\u001b[0m\u001b[0;34m\u001b[0m\u001b[0m\n\u001b[1;32m    259\u001b[0m             \u001b[0mresult\u001b[0m\u001b[0;34m.\u001b[0m\u001b[0mappend\u001b[0m\u001b[0;34m(\u001b[0m\u001b[0mnp\u001b[0m\u001b[0;34m.\u001b[0m\u001b[0marray\u001b[0m\u001b[0;34m(\u001b[0m\u001b[0mX\u001b[0m\u001b[0;34m)\u001b[0m\u001b[0;34m)\u001b[0m\u001b[0;34m\u001b[0m\u001b[0;34m\u001b[0m\u001b[0m\n\u001b[0;32m--> 260\u001b[0;31m     \u001b[0mcheck_consistent_length\u001b[0m\u001b[0;34m(\u001b[0m\u001b[0;34m*\u001b[0m\u001b[0mresult\u001b[0m\u001b[0;34m)\u001b[0m\u001b[0;34m\u001b[0m\u001b[0;34m\u001b[0m\u001b[0m\n\u001b[0m\u001b[1;32m    261\u001b[0m     \u001b[0;32mreturn\u001b[0m \u001b[0mresult\u001b[0m\u001b[0;34m\u001b[0m\u001b[0;34m\u001b[0m\u001b[0m\n\u001b[1;32m    262\u001b[0m \u001b[0;34m\u001b[0m\u001b[0m\n",
            "\u001b[0;32m/usr/local/lib/python3.6/dist-packages/sklearn/utils/validation.py\u001b[0m in \u001b[0;36mcheck_consistent_length\u001b[0;34m(*arrays)\u001b[0m\n\u001b[1;32m    233\u001b[0m     \u001b[0;32mif\u001b[0m \u001b[0mlen\u001b[0m\u001b[0;34m(\u001b[0m\u001b[0muniques\u001b[0m\u001b[0;34m)\u001b[0m \u001b[0;34m>\u001b[0m \u001b[0;36m1\u001b[0m\u001b[0;34m:\u001b[0m\u001b[0;34m\u001b[0m\u001b[0;34m\u001b[0m\u001b[0m\n\u001b[1;32m    234\u001b[0m         raise ValueError(\"Found input variables with inconsistent numbers of\"\n\u001b[0;32m--> 235\u001b[0;31m                          \" samples: %r\" % [int(l) for l in lengths])\n\u001b[0m\u001b[1;32m    236\u001b[0m \u001b[0;34m\u001b[0m\u001b[0m\n\u001b[1;32m    237\u001b[0m \u001b[0;34m\u001b[0m\u001b[0m\n",
            "\u001b[0;31mValueError\u001b[0m: Found input variables with inconsistent numbers of samples: [104186, 4]"
          ]
        }
      ]
    },
    {
      "cell_type": "markdown",
      "metadata": {
        "colab_type": "text",
        "id": "nV6TiFTmoICx"
      },
      "source": [
        "### Predict Cost via Linear Regression \n",
        "\n",
        "(3. 5 points) Using linear regression analysis, use the `CODE` and `ENCOUNTERCLASS` as independent variables to predict `COST`. This is your naive model. Report R-Squared for both training `r2_train_cost` and validation `r2_test_cost`. \n",
        "\n",
        "\n"
      ]
    },
    {
      "cell_type": "code",
      "metadata": {
        "colab_type": "code",
        "id": "WKKqv5ZpoICy",
        "outputId": "30d00e43-4bd8-466b-90f9-9ee0bcab0820",
        "colab": {
          "base_uri": "https://localhost:8080/",
          "height": 232
        }
      },
      "source": [
        "#3 Answer\n",
        "from sklearn.linear_model import LinearRegression\n",
        "lm = LinearRegression()\n",
        "lm.fit( X_train, y_train)\n",
        "\n",
        "from sklearn.metrics import r2_score\n",
        "r2_train_base= r2_score(y_train, y_train_base)\n",
        "r2_train_reg = r2_score(y_train, lm.predict(X_train))\n",
        "\n",
        "r2_test_base = r2_score(y_test, y_test_base)\n",
        "r2_test_reg = r2_score(y_test, lm.predict(X_test))\n",
        " \n",
        "r2_train_cost = r2_train_base # Make equal to the R2. \n",
        "#r2_test_cost = 0# Make equal to the R2. \n",
        "\n",
        "#Keep this\n",
        "print('R2 for Train:', r2_train_cost)\n",
        "print('R2 for Test (cross validation)：', r2_test_cost )"
      ],
      "execution_count": 23,
      "outputs": [
        {
          "output_type": "error",
          "ename": "NameError",
          "evalue": "ignored",
          "traceback": [
            "\u001b[0;31m---------------------------------------------------------------------------\u001b[0m",
            "\u001b[0;31mNameError\u001b[0m                                 Traceback (most recent call last)",
            "\u001b[0;32m<ipython-input-23-4bef2d986800>\u001b[0m in \u001b[0;36m<module>\u001b[0;34m()\u001b[0m\n\u001b[1;32m      1\u001b[0m \u001b[0;32mfrom\u001b[0m \u001b[0msklearn\u001b[0m\u001b[0;34m.\u001b[0m\u001b[0mlinear_model\u001b[0m \u001b[0;32mimport\u001b[0m \u001b[0mLinearRegression\u001b[0m\u001b[0;34m\u001b[0m\u001b[0;34m\u001b[0m\u001b[0m\n\u001b[1;32m      2\u001b[0m \u001b[0mlm\u001b[0m \u001b[0;34m=\u001b[0m \u001b[0mLinearRegression\u001b[0m\u001b[0;34m(\u001b[0m\u001b[0;34m)\u001b[0m\u001b[0;34m\u001b[0m\u001b[0;34m\u001b[0m\u001b[0m\n\u001b[0;32m----> 3\u001b[0;31m \u001b[0mlm\u001b[0m\u001b[0;34m.\u001b[0m\u001b[0mfit\u001b[0m\u001b[0;34m(\u001b[0m \u001b[0mX_train\u001b[0m\u001b[0;34m,\u001b[0m \u001b[0my_train\u001b[0m\u001b[0;34m)\u001b[0m\u001b[0;34m\u001b[0m\u001b[0;34m\u001b[0m\u001b[0m\n\u001b[0m\u001b[1;32m      4\u001b[0m \u001b[0;34m\u001b[0m\u001b[0m\n\u001b[1;32m      5\u001b[0m \u001b[0;32mfrom\u001b[0m \u001b[0msklearn\u001b[0m\u001b[0;34m.\u001b[0m\u001b[0mmetrics\u001b[0m \u001b[0;32mimport\u001b[0m \u001b[0mr2_score\u001b[0m\u001b[0;34m\u001b[0m\u001b[0;34m\u001b[0m\u001b[0m\n",
            "\u001b[0;31mNameError\u001b[0m: name 'y_train' is not defined"
          ]
        }
      ]
    },
    {
      "cell_type": "markdown",
      "metadata": {
        "colab_type": "text",
        "id": "jAucAlQIoIC2"
      },
      "source": [
        "# Create Graph of Encounter class vs Cost\n",
        "\n",
        "(4. 5 points) Create a graph of encounter class vs cost. It should look like the graph below (created via seaborn). \n"
      ]
    },
    {
      "cell_type": "code",
      "metadata": {
        "colab_type": "code",
        "id": "M5b0u7uyoIC3",
        "colab": {}
      },
      "source": [
        "%matplotlib inline"
      ],
      "execution_count": 0,
      "outputs": []
    },
    {
      "cell_type": "code",
      "metadata": {
        "colab_type": "code",
        "id": "Vg4u1tjoXETL",
        "colab": {
          "base_uri": "https://localhost:8080/",
          "height": 283
        },
        "outputId": "81ee49e9-abf4-49bb-d4c9-c7a7473e4b27"
      },
      "source": [
        "#4 Answer\n",
        "import seaborn as sns\n",
        "sns.barplot(x=\"COST\", y=\"ENCOUNTERCLASS\", data=encounters_ny);"
      ],
      "execution_count": 25,
      "outputs": [
        {
          "output_type": "display_data",
          "data": {
            "image/png": "[encoded data removed]",
            "text/plain": [
              "<Figure size 432x288 with 1 Axes>"
            ]
          },
          "metadata": {
            "tags": []
          }
        }
      ]
    },
    {
      "cell_type": "markdown",
      "metadata": {
        "colab_type": "text",
        "id": "vyOd-KhooIC-"
      },
      "source": [
        "When you are done your graph should look like this.  \n",
        "\n",
        "ENCOUNTERCLASS is on they axis and  and COST on X axis.\n",
        "\n",
        "![Imgur](https://i.imgur.com/asCDZSM.png)\n"
      ]
    },
    {
      "cell_type": "markdown",
      "metadata": {
        "colab_type": "text",
        "id": "aQ06eTNFXEXk"
      },
      "source": [
        "# High Cost Patients Classification \n",
        "\n",
        "A second Challenge is determinine the most expensive individuals.  This is set as all those groups that are more than 1 standard deviation above the mean, indicated as 'HIGHCOST' in the dataset.  \n",
        "\n",
        "(5. 5 points) \n",
        "Overall, count the total number of individuals who are high cost in NY (i.e., where encounters_ny['HIGHCOST'] is equal to 1.) Assign to the value `total_high_cost_ny`. \n",
        "\n",
        "Overall, count the total number of individuals who are high cost in MA (i.e., where encounters_ny['HIGHCOST'] is equal to 1.) Assign to the value `total_high_cost_ma`. \n",
        "\n",
        "\n"
      ]
    },
    {
      "cell_type": "code",
      "metadata": {
        "colab_type": "code",
        "id": "bPGRyrs4oIDA",
        "outputId": "5a2f4c59-82dd-4da2-de57-8eb9a3021e27",
        "colab": {
          "base_uri": "https://localhost:8080/",
          "height": 34
        }
      },
      "source": [
        "#5 Answer \n",
        "total_high_cost_ny=np.sum(encounters_ny['HIGHCOST']==1)  #set to the sum\n",
        "total_high_cost_ma=np.sum(encounters_ma['HIGHCOST']==1) #set to the sum\n",
        "\n",
        "print(total_high_cost_ny, total_high_cost_ma)"
      ],
      "execution_count": 26,
      "outputs": [
        {
          "output_type": "stream",
          "text": [
            "21558 22505\n"
          ],
          "name": "stdout"
        }
      ]
    },
    {
      "cell_type": "markdown",
      "metadata": {
        "colab_type": "text",
        "id": "a5mGGSz4oIDE"
      },
      "source": [
        "### Split the Train and test set for Classification with you DV set to HIGHCOST for NY Only. \n",
        "\n",
        "\n",
        "(6. 5 points) First split your data into an 70% train and 30% validation. Make sure that the results are *stratified* (equal classes in train and test) with `random_state = 111`.  \n",
        "\n",
        "Also set the following:\n",
        "\n",
        "```\n",
        "splittest3 = y_train.iloc[5]\n",
        "splittest4 = y_test.iloc[3]\n",
        "```\n"
      ]
    },
    {
      "cell_type": "code",
      "metadata": {
        "colab_type": "code",
        "id": "RK4j7B0JoIDE",
        "outputId": "e5eb7da2-13ce-4fb7-c40d-ca492614a14d",
        "colab": {
          "base_uri": "https://localhost:8080/",
          "height": 34
        }
      },
      "source": [
        "#6 Answer \n",
        "from sklearn.model_selection import train_test_split\n",
        "#Set y equal to train encounters_ny['HIGHCOST'] \n",
        "y = encounters_ny['HIGHCOST']\n",
        "#X_train, X_test, y_train, y_test  is the naming you should use\n",
        "X_train, X_test, y_train, y_test = train_test_split(X, y, \n",
        "                                                    train_size=0.7,\n",
        "                                                    test_size=0.3,\n",
        "                                                    random_state=111)\n",
        "#This will be used for testing. Keep it. \n",
        "splittest3 = y_train.iloc[3]\n",
        "splittest4 = y_test.iloc[17]\n",
        "print (splittest3, splittest4)"
      ],
      "execution_count": 27,
      "outputs": [
        {
          "output_type": "stream",
          "text": [
            "0 0\n"
          ],
          "name": "stdout"
        }
      ]
    },
    {
      "cell_type": "markdown",
      "metadata": {
        "colab_type": "text",
        "id": "2SZb1zDLoIDK"
      },
      "source": [
        "### Classification with Random Forrest\n",
        "(8. 5 points) Use a RandomForestClassifier to predict the 'HIGH_COST' with use the `CODE` and `ENCOUNTERCLASS` as independent variables.  \n",
        "\n",
        "Also set the following:\n",
        "\n",
        "```\n",
        "train_accuracy\n",
        "test_accuracy\n",
        "```"
      ]
    },
    {
      "cell_type": "code",
      "metadata": {
        "colab_type": "code",
        "id": "SIXHnQQsoIDL",
        "colab": {
          "base_uri": "https://localhost:8080/",
          "height": 232
        },
        "outputId": "29fbc1aa-2216-447f-f22f-8188891b9015"
      },
      "source": [
        "from sklearn.ensemble import RandomForestClassifier\n",
        "import pandas as pd\n",
        "import numpy as np\n",
        "import os\n",
        "from sklearn.feature_extraction.text import CountVectorizer\n",
        "\n",
        "forest = RandomForestClassifier(n_estimators = 100)\n",
        "forest = forest.fit( train_data_features, X_train[\"CODE\"] )\n",
        "\n",
        "train_accuracy = 0#set to the accuracy\n",
        "test_accuracy = 0 #set to the accuracy\n",
        "#Keep this.\n",
        "print(\"Classifier Accuracy for Train: \", train_accuracy )\n",
        "print(\"Classifier Accuracy for Test: \", test_accuracy )"
      ],
      "execution_count": 29,
      "outputs": [
        {
          "output_type": "error",
          "ename": "NameError",
          "evalue": "ignored",
          "traceback": [
            "\u001b[0;31m---------------------------------------------------------------------------\u001b[0m",
            "\u001b[0;31mNameError\u001b[0m                                 Traceback (most recent call last)",
            "\u001b[0;32m<ipython-input-29-adbacfd631b3>\u001b[0m in \u001b[0;36m<module>\u001b[0;34m()\u001b[0m\n\u001b[1;32m      6\u001b[0m \u001b[0;34m\u001b[0m\u001b[0m\n\u001b[1;32m      7\u001b[0m \u001b[0mforest\u001b[0m \u001b[0;34m=\u001b[0m \u001b[0mRandomForestClassifier\u001b[0m\u001b[0;34m(\u001b[0m\u001b[0mn_estimators\u001b[0m \u001b[0;34m=\u001b[0m \u001b[0;36m100\u001b[0m\u001b[0;34m)\u001b[0m\u001b[0;34m\u001b[0m\u001b[0;34m\u001b[0m\u001b[0m\n\u001b[0;32m----> 8\u001b[0;31m \u001b[0mforest\u001b[0m \u001b[0;34m=\u001b[0m \u001b[0mforest\u001b[0m\u001b[0;34m.\u001b[0m\u001b[0mfit\u001b[0m\u001b[0;34m(\u001b[0m \u001b[0mtrain_data_features\u001b[0m\u001b[0;34m,\u001b[0m \u001b[0mX_train\u001b[0m\u001b[0;34m[\u001b[0m\u001b[0;34m\"CODE\"\u001b[0m\u001b[0;34m]\u001b[0m \u001b[0;34m)\u001b[0m\u001b[0;34m\u001b[0m\u001b[0;34m\u001b[0m\u001b[0m\n\u001b[0m\u001b[1;32m      9\u001b[0m \u001b[0;34m\u001b[0m\u001b[0m\n\u001b[1;32m     10\u001b[0m \u001b[0mtrain_accuracy\u001b[0m \u001b[0;34m=\u001b[0m \u001b[0;36m0\u001b[0m\u001b[0;31m#set to the accuracy\u001b[0m\u001b[0;34m\u001b[0m\u001b[0;34m\u001b[0m\u001b[0m\n",
            "\u001b[0;31mNameError\u001b[0m: name 'train_data_features' is not defined"
          ]
        }
      ]
    },
    {
      "cell_type": "markdown",
      "metadata": {
        "colab_type": "text",
        "id": "zcSiCldTXEX2"
      },
      "source": [
        "### Submission\n",
        "For the final submission, please submit a link to this notebook to the LMS as a `.ipynb` file.  The TA must be able to run your notebook.  \n",
        "\n",
        "### Please make sure that your notebook above this point runs without errors.  "
      ]
    }
  ]
}